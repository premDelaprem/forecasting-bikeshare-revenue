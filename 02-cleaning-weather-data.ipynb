{
 "cells": [
  {
   "cell_type": "markdown",
   "metadata": {},
   "source": [
    "# Notebook II - Cleaning & Processing `weather_data.csv`\n",
    "---"
   ]
  },
  {
   "cell_type": "code",
   "execution_count": 38,
   "metadata": {},
   "outputs": [],
   "source": [
    "# imports\n",
    "import pandas as pd\n",
    "import numpy as np\n",
    "\n",
    "# graphing\n",
    "import matplotlib.pyplot as plt\n",
    "import seaborn as sns"
   ]
  },
  {
   "cell_type": "markdown",
   "metadata": {},
   "source": [
    "---\n",
    "## 2. Cleaning Weather Data"
   ]
  },
  {
   "cell_type": "code",
   "execution_count": 49,
   "metadata": {},
   "outputs": [
    {
     "data": {
      "text/html": [
       "<div>\n",
       "<style scoped>\n",
       "    .dataframe tbody tr th:only-of-type {\n",
       "        vertical-align: middle;\n",
       "    }\n",
       "\n",
       "    .dataframe tbody tr th {\n",
       "        vertical-align: top;\n",
       "    }\n",
       "\n",
       "    .dataframe thead th {\n",
       "        text-align: right;\n",
       "    }\n",
       "</style>\n",
       "<table border=\"1\" class=\"dataframe\">\n",
       "  <thead>\n",
       "    <tr style=\"text-align: right;\">\n",
       "      <th></th>\n",
       "      <th>Date</th>\n",
       "      <th>TempHigh_F</th>\n",
       "      <th>TempAvg_F</th>\n",
       "      <th>TempLow_F</th>\n",
       "      <th>HumidityHigh_Percent</th>\n",
       "      <th>HumidityAvg_Percent</th>\n",
       "      <th>HumidityLow_Percent</th>\n",
       "      <th>VisibilityHigh_Miles</th>\n",
       "      <th>VisibilityAvg_Miles</th>\n",
       "      <th>VisibilityLow_Miles</th>\n",
       "      <th>WindHigh_MPH</th>\n",
       "      <th>WindAvg_MPH</th>\n",
       "      <th>WindGust_MPH</th>\n",
       "      <th>Precipitation_Inches</th>\n",
       "      <th>Events</th>\n",
       "    </tr>\n",
       "  </thead>\n",
       "  <tbody>\n",
       "    <tr>\n",
       "      <th>0</th>\n",
       "      <td>1/1/14</td>\n",
       "      <td>69</td>\n",
       "      <td>54</td>\n",
       "      <td>39</td>\n",
       "      <td>83</td>\n",
       "      <td>68</td>\n",
       "      <td>52</td>\n",
       "      <td>10</td>\n",
       "      <td>10</td>\n",
       "      <td>8</td>\n",
       "      <td>13</td>\n",
       "      <td>4</td>\n",
       "      <td>22</td>\n",
       "      <td>0</td>\n",
       "      <td>NaN</td>\n",
       "    </tr>\n",
       "    <tr>\n",
       "      <th>1</th>\n",
       "      <td>1/2/14</td>\n",
       "      <td>55</td>\n",
       "      <td>44</td>\n",
       "      <td>33</td>\n",
       "      <td>83</td>\n",
       "      <td>55</td>\n",
       "      <td>26</td>\n",
       "      <td>10</td>\n",
       "      <td>10</td>\n",
       "      <td>9</td>\n",
       "      <td>21</td>\n",
       "      <td>8</td>\n",
       "      <td>31</td>\n",
       "      <td>0</td>\n",
       "      <td>NaN</td>\n",
       "    </tr>\n",
       "    <tr>\n",
       "      <th>2</th>\n",
       "      <td>1/3/14</td>\n",
       "      <td>58</td>\n",
       "      <td>43</td>\n",
       "      <td>28</td>\n",
       "      <td>75</td>\n",
       "      <td>49</td>\n",
       "      <td>22</td>\n",
       "      <td>10</td>\n",
       "      <td>10</td>\n",
       "      <td>10</td>\n",
       "      <td>14</td>\n",
       "      <td>4</td>\n",
       "      <td>21</td>\n",
       "      <td>0</td>\n",
       "      <td>NaN</td>\n",
       "    </tr>\n",
       "    <tr>\n",
       "      <th>3</th>\n",
       "      <td>1/4/14</td>\n",
       "      <td>71</td>\n",
       "      <td>57</td>\n",
       "      <td>42</td>\n",
       "      <td>89</td>\n",
       "      <td>68</td>\n",
       "      <td>47</td>\n",
       "      <td>10</td>\n",
       "      <td>10</td>\n",
       "      <td>8</td>\n",
       "      <td>16</td>\n",
       "      <td>7</td>\n",
       "      <td>28</td>\n",
       "      <td>0</td>\n",
       "      <td>NaN</td>\n",
       "    </tr>\n",
       "    <tr>\n",
       "      <th>4</th>\n",
       "      <td>1/5/14</td>\n",
       "      <td>59</td>\n",
       "      <td>47</td>\n",
       "      <td>34</td>\n",
       "      <td>87</td>\n",
       "      <td>59</td>\n",
       "      <td>31</td>\n",
       "      <td>10</td>\n",
       "      <td>10</td>\n",
       "      <td>4</td>\n",
       "      <td>21</td>\n",
       "      <td>10</td>\n",
       "      <td>34</td>\n",
       "      <td>0</td>\n",
       "      <td>NaN</td>\n",
       "    </tr>\n",
       "  </tbody>\n",
       "</table>\n",
       "</div>"
      ],
      "text/plain": [
       "     Date  TempHigh_F  TempAvg_F  TempLow_F HumidityHigh_Percent  \\\n",
       "0  1/1/14          69         54         39                   83   \n",
       "1  1/2/14          55         44         33                   83   \n",
       "2  1/3/14          58         43         28                   75   \n",
       "3  1/4/14          71         57         42                   89   \n",
       "4  1/5/14          59         47         34                   87   \n",
       "\n",
       "  HumidityAvg_Percent HumidityLow_Percent VisibilityHigh_Miles  \\\n",
       "0                  68                  52                   10   \n",
       "1                  55                  26                   10   \n",
       "2                  49                  22                   10   \n",
       "3                  68                  47                   10   \n",
       "4                  59                  31                   10   \n",
       "\n",
       "  VisibilityAvg_Miles VisibilityLow_Miles WindHigh_MPH WindAvg_MPH  \\\n",
       "0                  10                   8           13           4   \n",
       "1                  10                   9           21           8   \n",
       "2                  10                  10           14           4   \n",
       "3                  10                   8           16           7   \n",
       "4                  10                   4           21          10   \n",
       "\n",
       "  WindGust_MPH Precipitation_Inches Events  \n",
       "0           22                    0    NaN  \n",
       "1           31                    0    NaN  \n",
       "2           21                    0    NaN  \n",
       "3           28                    0    NaN  \n",
       "4           34                    0    NaN  "
      ]
     },
     "execution_count": 49,
     "metadata": {},
     "output_type": "execute_result"
    }
   ],
   "source": [
    "# read weather data\n",
    "weather = pd.read_csv(\"./data/weather_data.csv\")\n",
    "\n",
    "weather.head()"
   ]
  },
  {
   "cell_type": "markdown",
   "metadata": {},
   "source": [
    "The data here is time-series (we are tracking different metrics of weather over time). There is 3 years of weather data, from 2014-2016. 2016 was a leap year, so we should expect 1096 rows."
   ]
  },
  {
   "cell_type": "code",
   "execution_count": 50,
   "metadata": {},
   "outputs": [
    {
     "name": "stdout",
     "output_type": "stream",
     "text": [
      "Rows:   1096\n",
      "Columns:   15\n"
     ]
    }
   ],
   "source": [
    "print(f\"Rows:   {weather.shape[0]}\")\n",
    "print(f\"Columns:   {weather.shape[1]}\")"
   ]
  },
  {
   "cell_type": "code",
   "execution_count": 51,
   "metadata": {},
   "outputs": [
    {
     "data": {
      "text/plain": [
       "1096"
      ]
     },
     "execution_count": 51,
     "metadata": {},
     "output_type": "execute_result"
    }
   ],
   "source": [
    "# brief check to see there are 1096 unique dates\n",
    "len(weather['Date'].unique())"
   ]
  },
  {
   "cell_type": "code",
   "execution_count": 52,
   "metadata": {},
   "outputs": [
    {
     "name": "stdout",
     "output_type": "stream",
     "text": [
      "<class 'pandas.core.frame.DataFrame'>\n",
      "RangeIndex: 1096 entries, 0 to 1095\n",
      "Data columns (total 15 columns):\n",
      " #   Column                Non-Null Count  Dtype \n",
      "---  ------                --------------  ----- \n",
      " 0   Date                  1096 non-null   object\n",
      " 1   TempHigh_F            1096 non-null   int64 \n",
      " 2   TempAvg_F             1096 non-null   int64 \n",
      " 3   TempLow_F             1096 non-null   int64 \n",
      " 4   HumidityHigh_Percent  1096 non-null   object\n",
      " 5   HumidityAvg_Percent   1096 non-null   object\n",
      " 6   HumidityLow_Percent   1096 non-null   object\n",
      " 7   VisibilityHigh_Miles  1096 non-null   object\n",
      " 8   VisibilityAvg_Miles   1096 non-null   object\n",
      " 9   VisibilityLow_Miles   1096 non-null   object\n",
      " 10  WindHigh_MPH          1096 non-null   object\n",
      " 11  WindAvg_MPH           1096 non-null   object\n",
      " 12  WindGust_MPH          1096 non-null   object\n",
      " 13  Precipitation_Inches  1096 non-null   object\n",
      " 14  Events                352 non-null    object\n",
      "dtypes: int64(3), object(12)\n",
      "memory usage: 128.6+ KB\n"
     ]
    }
   ],
   "source": [
    "# missing values and data types\n",
    "weather.info()"
   ]
  },
  {
   "cell_type": "markdown",
   "metadata": {},
   "source": [
    "There are missing values for just one column, \"Events\". Additionally, we have a majority of the numeric columns listed as 'object'. Let's fix these issues first."
   ]
  },
  {
   "cell_type": "markdown",
   "metadata": {},
   "source": [
    "---\n",
    "### 2a. Investigating the \"Events\" Column"
   ]
  },
  {
   "cell_type": "code",
   "execution_count": 53,
   "metadata": {},
   "outputs": [
    {
     "data": {
      "text/plain": [
       "array([nan, 'Rain', 'Fog', 'Rain,Snow', 'Rain,Thunderstorm', 'Fog,Rain',\n",
       "       'Thunderstorm', 'Fog,Rain,Thunderstorm', 'Fog,Thunderstorm'],\n",
       "      dtype=object)"
      ]
     },
     "execution_count": 53,
     "metadata": {},
     "output_type": "execute_result"
    }
   ],
   "source": [
    "weather['Events'].unique()"
   ]
  },
  {
   "cell_type": "markdown",
   "metadata": {},
   "source": [
    "Looks like the missing values here are representing the absence of any specific weather event on a given day. There are also some days where ***multiple*** weather events occurred. We can dummify the values in this column into separate variables representing the occurrence of that event."
   ]
  },
  {
   "cell_type": "code",
   "execution_count": 54,
   "metadata": {},
   "outputs": [],
   "source": [
    "# first replace NaNs w/ empty strings\n",
    "weather['Events'].fillna('', inplace = True)"
   ]
  },
  {
   "cell_type": "code",
   "execution_count": 55,
   "metadata": {},
   "outputs": [],
   "source": [
    "# now, split 'Events' column into separate dummies via pd.get_dummies()\n",
    "weather_dummies = pd.get_dummies(weather['Events'].str.split(',', expand = True).stack(), prefix = '', prefix_sep = ''\n",
    "                                 , drop_first = True) # make sure to set \"drop_first\" = True! --> this will drop the default dummy\n",
    "\n",
    "# concat dummy cols w/ weather df\n",
    "weather = pd.concat([weather, weather_dummies.groupby(level = 0).sum()], axis = 1)"
   ]
  },
  {
   "cell_type": "code",
   "execution_count": 56,
   "metadata": {},
   "outputs": [
    {
     "data": {
      "text/html": [
       "<div>\n",
       "<style scoped>\n",
       "    .dataframe tbody tr th:only-of-type {\n",
       "        vertical-align: middle;\n",
       "    }\n",
       "\n",
       "    .dataframe tbody tr th {\n",
       "        vertical-align: top;\n",
       "    }\n",
       "\n",
       "    .dataframe thead th {\n",
       "        text-align: right;\n",
       "    }\n",
       "</style>\n",
       "<table border=\"1\" class=\"dataframe\">\n",
       "  <thead>\n",
       "    <tr style=\"text-align: right;\">\n",
       "      <th></th>\n",
       "      <th>Events</th>\n",
       "      <th>Fog</th>\n",
       "      <th>Rain</th>\n",
       "      <th>Snow</th>\n",
       "      <th>Thunderstorm</th>\n",
       "    </tr>\n",
       "  </thead>\n",
       "  <tbody>\n",
       "    <tr>\n",
       "      <th>738</th>\n",
       "      <td></td>\n",
       "      <td>0</td>\n",
       "      <td>0</td>\n",
       "      <td>0</td>\n",
       "      <td>0</td>\n",
       "    </tr>\n",
       "    <tr>\n",
       "      <th>502</th>\n",
       "      <td>Rain</td>\n",
       "      <td>0</td>\n",
       "      <td>1</td>\n",
       "      <td>0</td>\n",
       "      <td>0</td>\n",
       "    </tr>\n",
       "    <tr>\n",
       "      <th>795</th>\n",
       "      <td></td>\n",
       "      <td>0</td>\n",
       "      <td>0</td>\n",
       "      <td>0</td>\n",
       "      <td>0</td>\n",
       "    </tr>\n",
       "    <tr>\n",
       "      <th>560</th>\n",
       "      <td></td>\n",
       "      <td>0</td>\n",
       "      <td>0</td>\n",
       "      <td>0</td>\n",
       "      <td>0</td>\n",
       "    </tr>\n",
       "    <tr>\n",
       "      <th>987</th>\n",
       "      <td>Rain</td>\n",
       "      <td>0</td>\n",
       "      <td>1</td>\n",
       "      <td>0</td>\n",
       "      <td>0</td>\n",
       "    </tr>\n",
       "  </tbody>\n",
       "</table>\n",
       "</div>"
      ],
      "text/plain": [
       "    Events  Fog  Rain  Snow  Thunderstorm\n",
       "738           0     0     0             0\n",
       "502   Rain    0     1     0             0\n",
       "795           0     0     0             0\n",
       "560           0     0     0             0\n",
       "987   Rain    0     1     0             0"
      ]
     },
     "execution_count": 56,
     "metadata": {},
     "output_type": "execute_result"
    }
   ],
   "source": [
    "# preview a window of the last few columns we just created\n",
    "weather.loc[:,'Events':].sample(5)"
   ]
  },
  {
   "cell_type": "markdown",
   "metadata": {},
   "source": [
    "The binary representations of the unique events (fog, rain, snow, thunderstorm, and \"no events\") look accurate here. I also dropped the default variable that represents the lack of the other events. Keeping this would create issues with correlations among the dummy variables. <br> Now, we can drop the 'Events' column."
   ]
  },
  {
   "cell_type": "code",
   "execution_count": 57,
   "metadata": {},
   "outputs": [],
   "source": [
    "# drop 'Events'\n",
    "weather.drop(columns = ['Events'], inplace = True)"
   ]
  },
  {
   "cell_type": "markdown",
   "metadata": {},
   "source": [
    "---\n",
    "### 2b. Fixing Columns"
   ]
  },
  {
   "cell_type": "code",
   "execution_count": 60,
   "metadata": {},
   "outputs": [],
   "source": [
    "# convert 'date' to datetime\n",
    "weather['Date'] = pd.to_datetime(weather['Date'], format = '%m/%d/%y')"
   ]
  },
  {
   "cell_type": "markdown",
   "metadata": {},
   "source": [
    "Weather data and metrics are generally continuous. So, it makes most sense to convert numeric values to float types."
   ]
  },
  {
   "cell_type": "code",
   "execution_count": 61,
   "metadata": {},
   "outputs": [],
   "source": [
    "# quickly converting Temp vars to float\n",
    "weather[['TempHigh_F', 'TempAvg_F', 'TempLow_F']] = weather[['TempHigh_F', 'TempAvg_F', 'TempLow_F']].astype(float)"
   ]
  },
  {
   "cell_type": "code",
   "execution_count": 62,
   "metadata": {},
   "outputs": [
    {
     "data": {
      "text/plain": [
       "Date                    datetime64[ns]\n",
       "TempHigh_F                     float64\n",
       "TempAvg_F                      float64\n",
       "TempLow_F                      float64\n",
       "HumidityHigh_Percent            object\n",
       "HumidityAvg_Percent             object\n",
       "HumidityLow_Percent             object\n",
       "VisibilityHigh_Miles            object\n",
       "VisibilityAvg_Miles             object\n",
       "VisibilityLow_Miles             object\n",
       "WindHigh_MPH                    object\n",
       "WindAvg_MPH                     object\n",
       "WindGust_MPH                    object\n",
       "Precipitation_Inches            object\n",
       "Fog                              int64\n",
       "Rain                             int64\n",
       "Snow                             int64\n",
       "Thunderstorm                     int64\n",
       "dtype: object"
      ]
     },
     "execution_count": 62,
     "metadata": {},
     "output_type": "execute_result"
    }
   ],
   "source": [
    "# everything aside from 'Date' should be float (weather data is continuous so float) since they are numeric values\n",
    "weather.dtypes"
   ]
  },
  {
   "cell_type": "markdown",
   "metadata": {},
   "source": [
    "It looks like there are several numeric columns that are being read as 'object.' It's possible that some of these values are actually missing, but are instead denoted with something other than \"NaN\". Let's quickly search through the ones reading as 'object' to check."
   ]
  },
  {
   "cell_type": "code",
   "execution_count": 63,
   "metadata": {},
   "outputs": [
    {
     "name": "stdout",
     "output_type": "stream",
     "text": [
      "HumidityHigh_Percent ['83' '75' '89' '87' '50' '68' '93' '84' '70' '49' '55' '45' '59' '64'\n",
      " '71' '78' '81' '85' '76' '66' '69' '63' '80' '86' '79' '82' '58' '96'\n",
      " '90' '67' '73' '92' '56' '53' '100' '72' '97' '60' '77' '42' '51' '44'\n",
      " '37' '94' '91' '95' '-' '88' '74' '62' '61' '65' '57' '54' '52' '48']\n",
      "==================================================\n",
      "HumidityAvg_Percent ['68' '55' '49' '59' '38' '43' '75' '80' '81' '53' '51' '41' '35' '31'\n",
      " '45' '39' '44' '64' '60' '52' '48' '42' '71' '69' '74' '54' '63' '70'\n",
      " '57' '58' '65' '85' '56' '79' '72' '76' '62' '88' '66' '36' '61' '78'\n",
      " '77' '73' '32' '33' '27' '87' '40' '67' '83' '86' '-' '50' '92' '46' '97'\n",
      " '91' '90' '47' '94' '82' '89' '95' '37' '84' '93' '28']\n",
      "==================================================\n",
      "HumidityLow_Percent ['52' '26' '22' '47' '31' '17' '57' '66' '68' '13' '14' '12' '21' '20'\n",
      " '19' '50' '39' '27' '48' '42' '60' '59' '65' '46' '49' '58' '40' '44'\n",
      " '70' '38' '30' '15' '32' '29' '77' '43' '37' '54' '69' '34' '83' '55'\n",
      " '53' '16' '18' '24' '45' '51' '28' '36' '67' '35' '72' '10' '11' '41'\n",
      " '79' '61' '73' '56' '-' '33' '25' '74' '84' '62' '78' '93' '82' '23' '75'\n",
      " '87' '64' '89' '80' '76' '71' '85' '90' '81' '63' '86']\n",
      "==================================================\n",
      "VisibilityHigh_Miles ['10' '9' '-' '8' '5']\n",
      "==================================================\n",
      "VisibilityAvg_Miles ['10' '2' '4' '8' '9' '6' '7' '5' '3' '-']\n",
      "==================================================\n",
      "VisibilityLow_Miles ['8' '9' '10' '4' '1' '0' '5' '7' '2' '3' '6' '-']\n",
      "==================================================\n",
      "WindHigh_MPH ['13' '21' '14' '16' '17' '12' '15' '9' '20' '8' '18' '10' '24' '22' '25'\n",
      " '7' '28' '23' '-' '29' '6' '26']\n",
      "==================================================\n",
      "WindAvg_MPH ['4' '8' '7' '10' '5' '1' '3' '6' '2' '9' '11' '-' '12']\n",
      "==================================================\n",
      "WindGust_MPH ['22' '31' '21' '28' '34' '27' '18' '19' '24' '29' '20' '16' '26' '25'\n",
      " '14' '32' '23' '17' '12' '30' '37' '13' '36' '15' '33' '57' '38' '39'\n",
      " '47' '35' '11' '10' '9' '43' '-' '42']\n",
      "==================================================\n",
      "Precipitation_Inches ['0' '0.16' '0.1' '0.01' '0.06' '0.05' '0.02' 'T' '0.15' '0.11' '0.08'\n",
      " '0.17' '0.74' '0.07' '0.2' '0.27' '1.34' '2.45' '0.94' '0.14' '0.19'\n",
      " '1.56' '1.75' '0.55' '1.49' '0.24' '0.49' '0.31' '3.53' '1.52' '0.09'\n",
      " '0.98' '0.22' '0.51' '0.68' '0.35' '3.66' '0.13' '0.21' '0.03' '1.42'\n",
      " '0.3' '0.56' '1.51' '0.04' '0.33' '3.33' '0.59' '0.63' '0.76' '2.07'\n",
      " '0.4' '0.26' '0.45' '2.17' '1.17' '0.43' '0.41' '0.57' '3.84' '0.29'\n",
      " '0.23' '1.12' '0.36' '2.6' '1.41' '5.2' '0.67' '2.66' '1.09' '0.93'\n",
      " '0.75' '1.05' '0.79' '4.79' '0.65' '4.93' '0.89' '0.53' '1.03' '1.46'\n",
      " '0.25' '1.54' '1.32' '1.33' '2.18' '0.34' '1.19' '1.13' '0.58' '0.54'\n",
      " '0.92' '0.77' '2.25' '0.52' '0.18' '1.07' '1.61' '1.06' '2.35' '1.79'\n",
      " '1.22' '1.29' '0.37']\n",
      "==================================================\n"
     ]
    }
   ],
   "source": [
    "# print to console the unique values for the 'objects' EXCEPT for date (date is OK)\n",
    "\n",
    "# place holder for columns we need to fix\n",
    "broken_cols = []\n",
    "\n",
    "for var in weather.columns[1::]: #slice to remove date\n",
    "    if weather[var].dtype == 'O':\n",
    "        print(var,weather[var].unique())\n",
    "        print(\"=\"*50)\n",
    "        broken_cols.append(var) #store these columns"
   ]
  },
  {
   "cell_type": "markdown",
   "metadata": {},
   "source": [
    "As expected, there are missing values denoted as '-' for the 'object' columns. I will fix these columns and investigate the \"missingness\" of the data. That is to say, I will check the null count and if it is substantially high, we can drop the column altogther. If the null count is low, we can keep the column and interpolate the missing values. <br><br>\n",
    "For 'Precipitation_Inches', a quick Google search showed me that 'T' in precipitation data actually denotes to \"trace\" amounts of precipitation. Since this typically represents less than 0.005 inches of water, I will round this to 0."
   ]
  },
  {
   "cell_type": "code",
   "execution_count": 64,
   "metadata": {},
   "outputs": [],
   "source": [
    "# replace '-' with NaN\n",
    "weather[broken_cols] = weather[broken_cols].replace('-', np.nan)"
   ]
  },
  {
   "cell_type": "code",
   "execution_count": 65,
   "metadata": {},
   "outputs": [],
   "source": [
    "# change precipitation 'T' to 0.0\n",
    "weather['Precipitation_Inches'].replace('T', 0.0, inplace = True)"
   ]
  },
  {
   "cell_type": "code",
   "execution_count": 66,
   "metadata": {},
   "outputs": [],
   "source": [
    "# converting the columns to numeric\n",
    "weather[broken_cols] = weather[broken_cols].astype('float')"
   ]
  },
  {
   "cell_type": "code",
   "execution_count": 67,
   "metadata": {},
   "outputs": [
    {
     "data": {
      "text/plain": [
       "VisibilityLow_Miles     12\n",
       "VisibilityHigh_Miles    12\n",
       "VisibilityAvg_Miles     12\n",
       "WindGust_MPH             3\n",
       "HumidityHigh_Percent     2\n",
       "HumidityAvg_Percent      2\n",
       "HumidityLow_Percent      2\n",
       "WindHigh_MPH             2\n",
       "WindAvg_MPH              2\n",
       "Precipitation_Inches     0\n",
       "Snow                     0\n",
       "Rain                     0\n",
       "Fog                      0\n",
       "Date                     0\n",
       "TempHigh_F               0\n",
       "TempLow_F                0\n",
       "TempAvg_F                0\n",
       "Thunderstorm             0\n",
       "dtype: int64"
      ]
     },
     "execution_count": 67,
     "metadata": {},
     "output_type": "execute_result"
    }
   ],
   "source": [
    "# count the null values for the columns that had '-'\n",
    "weather.isna().sum().sort_values(ascending = False)"
   ]
  },
  {
   "cell_type": "markdown",
   "metadata": {},
   "source": [
    "Not many values are missing here. Interpolating is the best bet here to fill the values since dropping by rows would mean we are losing an entire day's worth of data. <br><br>\n",
    "***SIDE NOTE:*** *It may be problematic to keep all metrics of a specific measure of weather. 'Low', 'Avg', and 'High' of the same metric (visiblity, humidity) will likely create multicollinearity once we get to modeling. But, I will display this via a correlation coefficient matrix later prior to dropping.*"
   ]
  },
  {
   "cell_type": "markdown",
   "metadata": {},
   "source": [
    "---\n",
    "#### Interpolating Missing Weather Data\n",
    "\n",
    "I will use simple linear interpolation to fill the few missing values in the dataset. I believe linear interpolation is a sound technique here since weather from day to day will not drastically differ."
   ]
  },
  {
   "cell_type": "code",
   "execution_count": 68,
   "metadata": {},
   "outputs": [],
   "source": [
    "# quick graph to visually see missing value\n",
    "\n",
    "# start index on date for missing\n",
    "index = weather[weather['HumidityAvg_Percent'].isna()]['Date'].index[0]"
   ]
  },
  {
   "cell_type": "code",
   "execution_count": 69,
   "metadata": {},
   "outputs": [
    {
     "data": {
      "image/png": "[encoded data removed]",
      "text/plain": [
       "<Figure size 1200x600 with 1 Axes>"
      ]
     },
     "metadata": {},
     "output_type": "display_data"
    }
   ],
   "source": [
    "# creating a sample visual where data is missing in a time-series\n",
    "plt.figure(figsize = (12, 6))\n",
    "plt.plot(weather.iloc[index-40:index+40]['Date'], weather.iloc[index-40:index+40]['HumidityAvg_Percent'], color = 'red', marker = 'o')\n",
    "plt.axvline(x = weather['Date'][index], color = 'black', linestyle = '--', linewidth = 0.5)\n",
    "plt.xticks(rotation = 90)\n",
    "plt.ylim(0, 100)\n",
    "plt.ylabel('Avg. Humidity (%)')\n",
    "plt.title('Visualizing Missing Value in Avg. Humidity (%)');\n",
    "\n",
    "plt.savefig('./graphs/missing_value_graph.jpeg', dpi = 1080)"
   ]
  },
  {
   "cell_type": "markdown",
   "metadata": {},
   "source": [
    "I wanted to visually represent the missing value in this time-series. There aren't many major swings from day-to-day. We will assume this for now for the other weather metrics missing data. So, we can use linear interpolation to fill in missing values. The values will essentially be averages (or slope) between the 2 closest available points. "
   ]
  },
  {
   "cell_type": "code",
   "execution_count": 70,
   "metadata": {},
   "outputs": [],
   "source": [
    "# interpolate columns (exclude 'Date')\n",
    "interpolate_cols = list(weather.columns[1::])\n",
    "\n",
    "weather[interpolate_cols] = weather[interpolate_cols].interpolate(method = 'linear', axis = 0)"
   ]
  },
  {
   "cell_type": "code",
   "execution_count": 71,
   "metadata": {},
   "outputs": [
    {
     "data": {
      "text/plain": [
       "164    77.0\n",
       "165    74.5\n",
       "166    72.0\n",
       "Name: HumidityAvg_Percent, dtype: float64"
      ]
     },
     "execution_count": 71,
     "metadata": {},
     "output_type": "execute_result"
    }
   ],
   "source": [
    "# quick check if done correctly using previous missing index on avg_humidity\n",
    "weather['HumidityAvg_Percent'].iloc[index-1:index+2] \n",
    "\n",
    "# confirmed!"
   ]
  },
  {
   "cell_type": "code",
   "execution_count": 72,
   "metadata": {},
   "outputs": [
    {
     "data": {
      "text/plain": [
       "Date                    0\n",
       "TempHigh_F              0\n",
       "TempAvg_F               0\n",
       "TempLow_F               0\n",
       "HumidityHigh_Percent    0\n",
       "HumidityAvg_Percent     0\n",
       "HumidityLow_Percent     0\n",
       "VisibilityHigh_Miles    0\n",
       "VisibilityAvg_Miles     0\n",
       "VisibilityLow_Miles     0\n",
       "WindHigh_MPH            0\n",
       "WindAvg_MPH             0\n",
       "WindGust_MPH            0\n",
       "Precipitation_Inches    0\n",
       "Fog                     0\n",
       "Rain                    0\n",
       "Snow                    0\n",
       "Thunderstorm            0\n",
       "dtype: int64"
      ]
     },
     "execution_count": 72,
     "metadata": {},
     "output_type": "execute_result"
    }
   ],
   "source": [
    "# no more missing values\n",
    "weather.isna().sum() "
   ]
  },
  {
   "cell_type": "markdown",
   "metadata": {},
   "source": [
    "--- \n",
    "<br>\n",
    "\n",
    "***SIDE NOTE:*** One additional concern I had while doing last checks on the weather data was regarding instances of having records of 0 inches of precipitation, but having presence of rain, snow, or thunderstorm. In some cases, rain or snow could have been logged in trace amounts (effectively rounding to 0 inches). However, in some cases, there are thunderstorms present and precipitation records are still 0. I would love to discuss how to question and research the validity of data in these instances. Here is an example below:\n",
    "\n",
    "<br>"
   ]
  },
  {
   "cell_type": "code",
   "execution_count": 73,
   "metadata": {},
   "outputs": [
    {
     "data": {
      "text/html": [
       "<div>\n",
       "<style scoped>\n",
       "    .dataframe tbody tr th:only-of-type {\n",
       "        vertical-align: middle;\n",
       "    }\n",
       "\n",
       "    .dataframe tbody tr th {\n",
       "        vertical-align: top;\n",
       "    }\n",
       "\n",
       "    .dataframe thead th {\n",
       "        text-align: right;\n",
       "    }\n",
       "</style>\n",
       "<table border=\"1\" class=\"dataframe\">\n",
       "  <thead>\n",
       "    <tr style=\"text-align: right;\">\n",
       "      <th></th>\n",
       "      <th>Precipitation_Inches</th>\n",
       "      <th>Fog</th>\n",
       "      <th>Rain</th>\n",
       "      <th>Snow</th>\n",
       "      <th>Thunderstorm</th>\n",
       "    </tr>\n",
       "  </thead>\n",
       "  <tbody>\n",
       "    <tr>\n",
       "      <th>86</th>\n",
       "      <td>0.0</td>\n",
       "      <td>0</td>\n",
       "      <td>0</td>\n",
       "      <td>0</td>\n",
       "      <td>1</td>\n",
       "    </tr>\n",
       "    <tr>\n",
       "      <th>128</th>\n",
       "      <td>0.0</td>\n",
       "      <td>0</td>\n",
       "      <td>1</td>\n",
       "      <td>0</td>\n",
       "      <td>1</td>\n",
       "    </tr>\n",
       "    <tr>\n",
       "      <th>144</th>\n",
       "      <td>0.0</td>\n",
       "      <td>0</td>\n",
       "      <td>0</td>\n",
       "      <td>0</td>\n",
       "      <td>1</td>\n",
       "    </tr>\n",
       "    <tr>\n",
       "      <th>184</th>\n",
       "      <td>0.0</td>\n",
       "      <td>0</td>\n",
       "      <td>0</td>\n",
       "      <td>0</td>\n",
       "      <td>1</td>\n",
       "    </tr>\n",
       "    <tr>\n",
       "      <th>230</th>\n",
       "      <td>0.0</td>\n",
       "      <td>0</td>\n",
       "      <td>0</td>\n",
       "      <td>0</td>\n",
       "      <td>1</td>\n",
       "    </tr>\n",
       "  </tbody>\n",
       "</table>\n",
       "</div>"
      ],
      "text/plain": [
       "     Precipitation_Inches  Fog  Rain  Snow  Thunderstorm\n",
       "86                    0.0    0     0     0             1\n",
       "128                   0.0    0     1     0             1\n",
       "144                   0.0    0     0     0             1\n",
       "184                   0.0    0     0     0             1\n",
       "230                   0.0    0     0     0             1"
      ]
     },
     "execution_count": 73,
     "metadata": {},
     "output_type": "execute_result"
    }
   ],
   "source": [
    "weather[(weather['Precipitation_Inches'] == 0) & (weather['Thunderstorm']) == 1].loc[:,'Precipitation_Inches':].head()"
   ]
  },
  {
   "cell_type": "markdown",
   "metadata": {},
   "source": [
    "How should we test the accuracy of this data in the future? It is totally possible that the thunderstorms were brief, resulting in \"Trace\" amounts of precipitation. However, I still think it would be useful to test the validity of some of the records. For now, I will leave the data as is to avoid creating gaps in the time-series."
   ]
  },
  {
   "cell_type": "markdown",
   "metadata": {},
   "source": [
    "The weather data is now ready to be saved and merged with the trips dataset. I will investigate which variables to exlude for the model in the next step after performing some brief EDA."
   ]
  },
  {
   "cell_type": "code",
   "execution_count": 74,
   "metadata": {},
   "outputs": [],
   "source": [
    "# save cleaned weather data\n",
    "weather.columns = weather.columns.str.lower()     # lowercase column names\n",
    "\n",
    "weather.to_csv('./cleaned_data/weather_cleaned.csv', index = False)"
   ]
  }
 ],
 "metadata": {
  "kernelspec": {
   "display_name": "Python [conda env:sktimeenv]",
   "language": "python",
   "name": "conda-env-sktimeenv-py"
  },
  "language_info": {
   "codemirror_mode": {
    "name": "ipython",
    "version": 3
   },
   "file_extension": ".py",
   "mimetype": "text/x-python",
   "name": "python",
   "nbconvert_exporter": "python",
   "pygments_lexer": "ipython3",
   "version": "3.9.18"
  }
 },
 "nbformat": 4,
 "nbformat_minor": 4
}
